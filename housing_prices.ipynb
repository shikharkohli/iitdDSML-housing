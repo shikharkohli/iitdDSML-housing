{
 "cells": [
  {
   "cell_type": "markdown",
   "metadata": {},
   "source": []
  },
  {
   "cell_type": "code",
   "execution_count": 2,
   "metadata": {},
   "outputs": [
    {
     "name": "stdout",
     "output_type": "stream",
     "text": [
      "   longitude  latitude  housing_median_age  total_rooms  total_bedrooms  \\\n",
      "0    -122.23     37.88                  41          880           129.0   \n",
      "1    -122.22     37.86                  21         7099          1106.0   \n",
      "2    -122.25     37.85                  52         1627           280.0   \n",
      "3    -122.25     37.85                  52          919           213.0   \n",
      "4    -122.25     37.84                  52         2535           489.0   \n",
      "\n",
      "   population  households  median_income  median_house_value ocean_proximity  \n",
      "0         322         126         8.3252              452600        NEAR BAY  \n",
      "1        2401        1138         8.3014              358500        NEAR BAY  \n",
      "2         565         259         3.8462              342200        NEAR BAY  \n",
      "3         413         193         4.0368              269700        NEAR BAY  \n",
      "4        1094         514         3.6591              299200        NEAR BAY  \n"
     ]
    }
   ],
   "source": [
    "import pandas as pd\n",
    "\n",
    "housing_df = pd.read_excel('Data/Dataset 1.xlsx')\n",
    "print(housing_df.head())"
   ]
  }
 ],
 "metadata": {
  "kernelspec": {
   "display_name": "Python 3",
   "language": "python",
   "name": "python3"
  },
  "language_info": {
   "codemirror_mode": {
    "name": "ipython",
    "version": 3
   },
   "file_extension": ".py",
   "mimetype": "text/x-python",
   "name": "python",
   "nbconvert_exporter": "python",
   "pygments_lexer": "ipython3",
   "version": "3.11.6"
  }
 },
 "nbformat": 4,
 "nbformat_minor": 2
}
